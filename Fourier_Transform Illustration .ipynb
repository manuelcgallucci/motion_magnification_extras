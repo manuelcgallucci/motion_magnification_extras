{
 "cells": [
  {
   "cell_type": "code",
   "execution_count": null,
   "id": "32545c1d",
   "metadata": {},
   "outputs": [],
   "source": [
    "import numpy as np\n",
    "import matplotlib.pyplot as plt\n",
    "\n",
    "# Generate a simple temporal signal with a shift\n",
    "t = np.linspace(0, 1, 100)\n",
    "signal = np.sin(2*np.pi*t) + np.sin(4*np.pi*t + np.pi/4)\n",
    "\n",
    "# Plot the signal in the time domain\n",
    "plt.plot(t, signal)\n",
    "plt.title('Signal in Time Domain')\n",
    "plt.xlabel('Time')\n",
    "plt.ylabel('Amplitude')\n",
    "plt.show()\n",
    "\n",
    "# Take the Fourier Transform of the signal\n",
    "freq = np.fft.fftshift(np.fft.fftfreq(len(t), t[1] - t[0]))\n",
    "fourier = np.fft.fftshift(np.fft.fft(signal))\n",
    "\n",
    "# Plot the Fourier Transform of the signal\n",
    "plt.plot(freq, np.abs(fourier))\n",
    "plt.title('Signal in Frequency Domain')\n",
    "plt.xlabel('Frequency')\n",
    "plt.ylabel('Amplitude')\n",
    "plt.show()\n",
    "\n",
    "# Shift the signal and plot it in the time domain\n",
    "shifted_signal = np.sin(2*np.pi*(t-0.2)) + np.sin(10*np.pi*(t-0.2) + np.pi/4)\n",
    "plt.plot(t, shifted_signal)\n",
    "plt.title('Shifted Signal in Time Domain')\n",
    "plt.xlabel('Time')\n",
    "plt.ylabel('Amplitude')\n",
    "plt.show()\n",
    "\n",
    "# Take the Fourier Transform of the shifted signal\n",
    "shifted_fourier = np.fft.fftshift(np.fft.fft(shifted_signal))\n",
    "\n",
    "# Plot the Fourier Transform of the shifted signal\n",
    "plt.plot(freq, np.abs(shifted_fourier))\n",
    "plt.title('Shifted Signal in Frequency Domain')\n",
    "plt.xlabel('Frequency')\n",
    "plt.ylabel('Amplitude')\n",
    "plt.show()\n"
   ]
  }
 ],
 "metadata": {
  "kernelspec": {
   "display_name": "Python 3 (ipykernel)",
   "language": "python",
   "name": "python3"
  },
  "language_info": {
   "codemirror_mode": {
    "name": "ipython",
    "version": 3
   },
   "file_extension": ".py",
   "mimetype": "text/x-python",
   "name": "python",
   "nbconvert_exporter": "python",
   "pygments_lexer": "ipython3",
   "version": "3.9.12"
  }
 },
 "nbformat": 4,
 "nbformat_minor": 5
}
